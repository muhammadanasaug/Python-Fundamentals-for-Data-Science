{
 "cells": [
  {
   "cell_type": "code",
   "execution_count": 19,
   "metadata": {},
   "outputs": [
    {
     "name": "stdout",
     "output_type": "stream",
     "text": [
      "Enter the temperature to convert: 55c\n",
      "The temperature in Farenheit is 131.0\n"
     ]
    }
   ],
   "source": [
    "temp = input(\"Enter the temperature to convert: \")\n",
    "num = int(temp[:-1])\n",
    "if temp[-1] == 'f' or temp[-1] == 'F':\n",
    "    print(\"The temperature in Celcius is\",(num-32)*5/9)\n",
    "elif temp[-1] == 'c' or temp[-1] == 'C':\n",
    "    print(\"The temperature in Farenheit is\",(num*9/5)+32)\n",
    "else:\n",
    "    print(\"Please enter valid temperature along with the proper unit\")"
   ]
  }
 ],
 "metadata": {
  "kernelspec": {
   "display_name": "Python 3",
   "language": "python",
   "name": "python3"
  },
  "language_info": {
   "codemirror_mode": {
    "name": "ipython",
    "version": 3
   },
   "file_extension": ".py",
   "mimetype": "text/x-python",
   "name": "python",
   "nbconvert_exporter": "python",
   "pygments_lexer": "ipython3",
   "version": "3.8.5"
  }
 },
 "nbformat": 4,
 "nbformat_minor": 4
}
