{
 "cells": [
  {
   "cell_type": "code",
   "execution_count": 1,
   "metadata": {},
   "outputs": [
    {
     "name": "stdout",
     "output_type": "stream",
     "text": [
      "Enter the year: 1700\n",
      "Enter the month: 2\n",
      "1700 is not a leap year\n",
      "There are 28 days in this month\n"
     ]
    }
   ],
   "source": [
    "year = int(input('Enter the year: '))\n",
    "month = int(input('Enter the month: '))\n",
    "\n",
    "if year % 4 == 0 and (year % 100 != 0 and year % 400 == 0):\n",
    "    print(year, 'is a leap year')\n",
    "    if month == 2:\n",
    "        print('There are 29 days in this month')    \n",
    "else:\n",
    "    print(year, 'is not a leap year')\n",
    "    if month == 2:\n",
    "        print('There are 28 days in this month')\n",
    "\n",
    "if month == 1 or month == 3 or month == 5 or month == 7 or month == 8 or month == 10 or month == 12:\n",
    "    print('There are 31 days in this month')\n",
    "elif month == 4 or month == 6 or month == 9 or month == 11:\n",
    "    print('There are 30 days in this month')"
   ]
  }
 ],
 "metadata": {
  "kernelspec": {
   "display_name": "Python 3",
   "language": "python",
   "name": "python3"
  },
  "language_info": {
   "codemirror_mode": {
    "name": "ipython",
    "version": 3
   },
   "file_extension": ".py",
   "mimetype": "text/x-python",
   "name": "python",
   "nbconvert_exporter": "python",
   "pygments_lexer": "ipython3",
   "version": "3.8.5"
  }
 },
 "nbformat": 4,
 "nbformat_minor": 4
}
