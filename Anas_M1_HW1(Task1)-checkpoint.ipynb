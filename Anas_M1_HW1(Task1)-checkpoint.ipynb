{
 "cells": [
  {
   "cell_type": "code",
   "execution_count": 1,
   "metadata": {},
   "outputs": [],
   "source": [
    "ListName = ['Masud','Zareena','Irfan','Shazia','Zain','Zara']"
   ]
  },
  {
   "cell_type": "code",
   "execution_count": 2,
   "metadata": {},
   "outputs": [],
   "source": [
    "ListRelation = ['Grandfather','Grandmother','Husband','Wife','Son','Daughter']"
   ]
  },
  {
   "cell_type": "code",
   "execution_count": 3,
   "metadata": {},
   "outputs": [],
   "source": [
    "ListSex = ['he','she','he','she','he','she']"
   ]
  },
  {
   "cell_type": "code",
   "execution_count": 4,
   "metadata": {},
   "outputs": [],
   "source": [
    "ListAge = [80,75,40,35,10,5]"
   ]
  },
  {
   "cell_type": "code",
   "execution_count": 5,
   "metadata": {},
   "outputs": [
    {
     "name": "stdout",
     "output_type": "stream",
     "text": [
      "Masud who is the Grandfather and he is 80 years old\n",
      "Zareena who is the Grandmother and she is 75 years old\n",
      "Irfan who is the Husband and he is 40 years old\n",
      "Shazia who is the Wife and she is 35 years old\n",
      "Zain who is the Son and he is 10 years old\n",
      "Zara who is the Daughter and she is 5 years old\n"
     ]
    }
   ],
   "source": [
    "for n in range(len(ListName)):\n",
    "    print(f\"{ListName[n]} who is the {ListRelation[n]} and {ListSex[n]} is {ListAge[n]} years old\")\n",
    "    n=n+1\n"
   ]
  },
  {
   "cell_type": "code",
   "execution_count": null,
   "metadata": {},
   "outputs": [],
   "source": []
  }
 ],
 "metadata": {
  "kernelspec": {
   "display_name": "Python 3",
   "language": "python",
   "name": "python3"
  },
  "language_info": {
   "codemirror_mode": {
    "name": "ipython",
    "version": 3
   },
   "file_extension": ".py",
   "mimetype": "text/x-python",
   "name": "python",
   "nbconvert_exporter": "python",
   "pygments_lexer": "ipython3",
   "version": "3.8.5"
  }
 },
 "nbformat": 4,
 "nbformat_minor": 4
}
